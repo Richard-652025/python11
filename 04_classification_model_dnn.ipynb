{
 "cells": [
  {
   "cell_type": "code",
   "execution_count": 97,
   "id": "665247c1",
   "metadata": {},
   "outputs": [
    {
     "name": "stdout",
     "output_type": "stream",
     "text": [
      "(<PIL.Image.Image image mode=L size=28x28 at 0x1F98217D340>, 9)\n"
     ]
    },
    {
     "data": {
      "image/jpeg": "[encoded data removed]",
      "image/png": "[encoded data removed]",
      "text/plain": [
       "<PIL.Image.Image image mode=L size=28x28>"
      ]
     },
     "execution_count": 97,
     "metadata": {},
     "output_type": "execute_result"
    }
   ],
   "source": [
    "import torch\n",
    "import torchvision\n",
    "import numpy as np\n",
    "import matplotlib.pyplot as plt\n",
    "from torchvision import datasets, transforms\n",
    "from deeplearning_train import EarlyStopping, ModelSaver,train_classification_model,plot_learning_curves\n",
    "from deeplearning_train import evaluate_classification_model as evaluate_model\n",
    "\n",
    "\n",
    "# 加载Fashion MNIST数据集，张量就是和numpy数组一样\n",
    "transform = transforms.Compose([])\n",
    "train_dataset = datasets.FashionMNIST(root='./data', train=True, download=True, transform=transform)\n",
    "test_dataset = datasets.FashionMNIST(root='./data', train=False, download=True, transform=transform)\n",
    "print(train_dataset[0])\n",
    "train_dataset[0][0]"
   ]
  },
  {
   "cell_type": "markdown",
   "id": "82667c97",
   "metadata": {},
   "source": [
    "# 加载数据并处理为tensor"
   ]
  },
  {
   "cell_type": "code",
   "execution_count": 98,
   "id": "18235b12",
   "metadata": {},
   "outputs": [
    {
     "name": "stdout",
     "output_type": "stream",
     "text": [
      "训练集形状: (60000, 28, 28)\n",
      "训练集标签数量: 60000\n",
      "测试集形状: (10000, 28, 28)\n",
      "测试集标签数量: 10000\n",
      "[[  0   0   0   0   0   0   0   0   0   0   0   0   0   0   0   0   0   0\n",
      "    0   0   0   0   0   0   0   0   0   0]\n",
      " [  0   0   0   0   0   0   0   0   0   0   0   0   0   0   0   0   0   0\n",
      "    0   0   0   0   0   0   0   0   0   0]\n",
      " [  0   0   0   0   0   0   0   0   0   0   0   0   0   0   0   0   0   0\n",
      "    0   0   0   0   0   0   0   0   0   0]\n",
      " [  0   0   0   0   0   0   0   0   0   0   0   0   1   0   0  13  73   0\n",
      "    0   1   4   0   0   0   0   1   1   0]\n",
      " [  0   0   0   0   0   0   0   0   0   0   0   0   3   0  36 136 127  62\n",
      "   54   0   0   0   1   3   4   0   0   3]\n",
      " [  0   0   0   0   0   0   0   0   0   0   0   0   6   0 102 204 176 134\n",
      "  144 123  23   0   0   0   0  12  10   0]\n",
      " [  0   0   0   0   0   0   0   0   0   0   0   0   0   0 155 236 207 178\n",
      "  107 156 161 109  64  23  77 130  72  15]\n",
      " [  0   0   0   0   0   0   0   0   0   0   0   1   0  69 207 223 218 216\n",
      "  216 163 127 121 122 146 141  88 172  66]\n",
      " [  0   0   0   0   0   0   0   0   0   1   1   1   0 200 232 232 233 229\n",
      "  223 223 215 213 164 127 123 196 229   0]\n",
      " [  0   0   0   0   0   0   0   0   0   0   0   0   0 183 225 216 223 228\n",
      "  235 227 224 222 224 221 223 245 173   0]\n",
      " [  0   0   0   0   0   0   0   0   0   0   0   0   0 193 228 218 213 198\n",
      "  180 212 210 211 213 223 220 243 202   0]\n",
      " [  0   0   0   0   0   0   0   0   0   1   3   0  12 219 220 212 218 192\n",
      "  169 227 208 218 224 212 226 197 209  52]\n",
      " [  0   0   0   0   0   0   0   0   0   0   6   0  99 244 222 220 218 203\n",
      "  198 221 215 213 222 220 245 119 167  56]\n",
      " [  0   0   0   0   0   0   0   0   0   4   0   0  55 236 228 230 228 240\n",
      "  232 213 218 223 234 217 217 209  92   0]\n",
      " [  0   0   1   4   6   7   2   0   0   0   0   0 237 226 217 223 222 219\n",
      "  222 221 216 223 229 215 218 255  77   0]\n",
      " [  0   3   0   0   0   0   0   0   0  62 145 204 228 207 213 221 218 208\n",
      "  211 218 224 223 219 215 224 244 159   0]\n",
      " [  0   0   0   0  18  44  82 107 189 228 220 222 217 226 200 205 211 230\n",
      "  224 234 176 188 250 248 233 238 215   0]\n",
      " [  0  57 187 208 224 221 224 208 204 214 208 209 200 159 245 193 206 223\n",
      "  255 255 221 234 221 211 220 232 246   0]\n",
      " [  3 202 228 224 221 211 211 214 205 205 205 220 240  80 150 255 229 221\n",
      "  188 154 191 210 204 209 222 228 225   0]\n",
      " [ 98 233 198 210 222 229 229 234 249 220 194 215 217 241  65  73 106 117\n",
      "  168 219 221 215 217 223 223 224 229  29]\n",
      " [ 75 204 212 204 193 205 211 225 216 185 197 206 198 213 240 195 227 245\n",
      "  239 223 218 212 209 222 220 221 230  67]\n",
      " [ 48 203 183 194 213 197 185 190 194 192 202 214 219 221 220 236 225 216\n",
      "  199 206 186 181 177 172 181 205 206 115]\n",
      " [  0 122 219 193 179 171 183 196 204 210 213 207 211 210 200 196 194 191\n",
      "  195 191 198 192 176 156 167 177 210  92]\n",
      " [  0   0  74 189 212 191 175 172 175 181 185 188 189 188 193 198 204 209\n",
      "  210 210 211 188 188 194 192 216 170   0]\n",
      " [  2   0   0   0  66 200 222 237 239 242 246 243 244 221 220 193 191 179\n",
      "  182 182 181 176 166 168  99  58   0   0]\n",
      " [  0   0   0   0   0   0   0  40  61  44  72  41  35   0   0   0   0   0\n",
      "    0   0   0   0   0   0   0   0   0   0]\n",
      " [  0   0   0   0   0   0   0   0   0   0   0   0   0   0   0   0   0   0\n",
      "    0   0   0   0   0   0   0   0   0   0]\n",
      " [  0   0   0   0   0   0   0   0   0   0   0   0   0   0   0   0   0   0\n",
      "    0   0   0   0   0   0   0   0   0   0]]\n"
     ]
    },
    {
     "data": {
      "text/plain": [
       "array([9, 0, 0, 3, 0, 2, 7, 2, 5, 5, 0, 9, 5, 5, 7, 9, 1, 0, 6, 4],\n",
       "      dtype=int64)"
      ]
     },
     "execution_count": 98,
     "metadata": {},
     "output_type": "execute_result"
    }
   ],
   "source": [
    "# 加载Fashion MNIST数据集，张量就是和numpy数组一样\n",
    "transform = transforms.Compose([\n",
    "    transforms.ToTensor(),\n",
    "    transforms.Normalize((0.286,), (0.353,))  \n",
    "])\n",
    "train_dataset = datasets.FashionMNIST(root='./data', train=True, download=True, transform=transform)\n",
    "test_dataset = datasets.FashionMNIST(root='./data', train=False, download=True, transform=transform)\n",
    "\n",
    "# 获取图像和标签\n",
    "# 注意：由于使用了transform，图像已经被转换为张量且标准化\n",
    "# 我们需要从dataset中提取原始图像用于显示\n",
    "train_images = train_dataset.data.numpy()\n",
    "train_labels = train_dataset.targets.numpy()\n",
    "test_images = test_dataset.data.numpy()\n",
    "test_labels = test_dataset.targets.numpy()\n",
    "\n",
    "# 定义类别名称\n",
    "class_names = ['T-shirt/top', '裤子', '套头衫', '连衣裙', '外套',\n",
    "               '凉鞋', '衬衫', '运动鞋', '包', '短靴']\n",
    "\n",
    "# 查看数据集基本信息\n",
    "print(f\"训练集形状: {train_images.shape}\")\n",
    "print(f\"训练集标签数量: {len(train_labels)}\")\n",
    "print(f\"测试集形状: {test_images.shape}\")\n",
    "print(f\"测试集标签数量: {len(test_labels)}\")\n",
    "\n",
    "print(train_images[0])\n",
    "\n",
    "train_labels[0:20]"
   ]
  },
  {
   "cell_type": "code",
   "execution_count": 99,
   "id": "2d73c12b",
   "metadata": {},
   "outputs": [],
   "source": [
    "def calculate_mean_std(train_dataset):\n",
    "    # 首先将所有图像堆叠为一个大张量\n",
    "    all_images=torch.stack([image_tensor for image_tensor,_ in train_dataset])\n",
    "    print(all_images.shape)\n",
    "    # 计算通道维度上的均值和标准差\n",
    "    # Fashion MNIST 是灰度图像，只有一个通道\n",
    "    # 对所有像素值计算均值和标准差\n",
    "    mean=torch.mean(all_images)\n",
    "    std=torch.std(all_images)\n",
    "    print(f\"训练数据集均值: {mean.item():.4f}\")\n",
    "    print(f\"训练数据集标准差: {std.item():.4f}\")\n",
    "\n",
    "    # 检查数据集大小\n",
    "    print(f\"数据集中图像总数: {len(train_dataset)}\")\n",
    "\n",
    "# calculate_mean_std(train_dataset)"
   ]
  },
  {
   "cell_type": "code",
   "execution_count": 100,
   "id": "579acfc2",
   "metadata": {},
   "outputs": [
    {
     "data": {
      "image/png": "[encoded data removed]",
      "text/plain": [
       "<Figure size 1500x900 with 15 Axes>"
      ]
     },
     "metadata": {},
     "output_type": "display_data"
    }
   ],
   "source": [
    "# 导入matplotlib用于绘图\n",
    "import matplotlib.pyplot as plt\n",
    "import matplotlib\n",
    "# 设置中文字体，解决中文显示问题\n",
    "matplotlib.rcParams['font.sans-serif'] = ['SimHei']  # 使用黑体\n",
    "matplotlib.rcParams['axes.unicode_minus'] = False  # 解决负号显示问题\n",
    "\n",
    "# 创建一个3行5列的图表来显示前15个样本\n",
    "plt.figure(figsize=(15, 9))  # 设置图表大小\n",
    "\n",
    "# 遍历前15个样本\n",
    "for i in range(15):\n",
    "    # 创建子图\n",
    "    plt.subplot(3, 5, i + 1)\n",
    "    \n",
    "    # 显示图像\n",
    "    plt.imshow(train_images[i], cmap='gray')\n",
    "    \n",
    "    # 添加标题（显示类别名称）\n",
    "    plt.title(class_names[train_labels[i]], fontsize=10)\n",
    "    \n",
    "    # 关闭坐标轴\n",
    "    plt.axis('off')\n",
    "\n",
    "# 调整子图之间的间距\n",
    "plt.tight_layout()\n",
    "\n",
    "# 显示图表\n",
    "plt.show()"
   ]
  },
  {
   "cell_type": "code",
   "execution_count": 101,
   "id": "82e40b1d",
   "metadata": {},
   "outputs": [
    {
     "data": {
      "text/plain": [
       "torch.Size([28, 28])"
      ]
     },
     "execution_count": 101,
     "metadata": {},
     "output_type": "execute_result"
    }
   ],
   "source": [
    "train_dataset[0][0].squeeze().shape"
   ]
  },
  {
   "cell_type": "code",
   "execution_count": 102,
   "id": "21c16696",
   "metadata": {},
   "outputs": [
    {
     "data": {
      "image/png": "[encoded data removed]",
      "text/plain": [
       "<Figure size 1500x900 with 15 Axes>"
      ]
     },
     "metadata": {},
     "output_type": "display_data"
    }
   ],
   "source": [
    "# 创建一个3行5列的图表来显示train_dataset中的前15个样本\n",
    "plt.figure(figsize=(15, 9))  # 设置图表大小\n",
    "\n",
    "# 遍历前15个样本\n",
    "for i in range(15):\n",
    "    # 获取数据和标签\n",
    "    img, label = train_dataset[i]\n",
    "    \n",
    "    # 创建子图\n",
    "    plt.subplot(3, 5, i + 1)\n",
    "    \n",
    "    # 将张量转换为numpy数组并显示图像,squeeze()是用来去掉张量中维度为1的维度\n",
    "    plt.imshow(img.squeeze().numpy(), cmap='gray')\n",
    "    \n",
    "    # 添加标题（显示类别名称）\n",
    "    plt.title(class_names[label], fontsize=10)\n",
    "    \n",
    "    # 关闭坐标轴\n",
    "    plt.axis('off')\n",
    "\n",
    "# 调整子图之间的间距\n",
    "plt.tight_layout()\n",
    "\n",
    "# 显示图表\n",
    "plt.show()"
   ]
  },
  {
   "cell_type": "markdown",
   "id": "fc1a0068",
   "metadata": {},
   "source": [
    "# 把数据集划分为训练集55000和验证集5000，并给DataLoader"
   ]
  },
  {
   "cell_type": "code",
   "execution_count": 103,
   "id": "455215a6",
   "metadata": {},
   "outputs": [
    {
     "name": "stdout",
     "output_type": "stream",
     "text": [
      "训练集大小: 55000\n",
      "验证集大小: 5000\n",
      "测试集大小: 10000\n",
      "批次大小: 64\n",
      "训练批次数: 860\n"
     ]
    }
   ],
   "source": [
    "# 从训练集中划分出验证集\n",
    "train_size = 55000\n",
    "val_size = 5000\n",
    "# 设置随机种子以确保每次得到相同的随机划分结果\n",
    "generator = torch.Generator().manual_seed(42)\n",
    "train_subset, val_subset = torch.utils.data.random_split(\n",
    "    train_dataset, \n",
    "    [train_size, val_size],\n",
    "    generator=generator #设置随机种子，确保每次得到相同的随机划分结果\n",
    ")\n",
    "\n",
    "# 创建数据加载器\n",
    "batch_size = 64\n",
    "train_loader = torch.utils.data.DataLoader(\n",
    "    train_subset,\n",
    "    batch_size=batch_size,\n",
    "    shuffle=True #打乱数据集，每次迭代时，数据集的顺序都会被打乱\n",
    ")\n",
    "\n",
    "val_loader = torch.utils.data.DataLoader(\n",
    "    val_subset,\n",
    "    batch_size=batch_size,\n",
    "    shuffle=False\n",
    ")\n",
    "\n",
    "test_loader = torch.utils.data.DataLoader(\n",
    "    test_dataset,\n",
    "    batch_size=batch_size,\n",
    "    shuffle=False\n",
    ")\n",
    "\n",
    "# 打印数据集大小信息\n",
    "print(f\"训练集大小: {len(train_subset)}\")\n",
    "print(f\"验证集大小: {len(val_subset)}\")\n",
    "print(f\"测试集大小: {len(test_dataset)}\")\n",
    "print(f\"批次大小: {batch_size}\")\n",
    "print(f\"训练批次数: {len(train_loader)}\")"
   ]
  },
  {
   "cell_type": "markdown",
   "id": "89a93d4d",
   "metadata": {},
   "source": [
    "# 搭建模型"
   ]
  },
  {
   "cell_type": "code",
   "execution_count": 104,
   "id": "c925b3a5",
   "metadata": {},
   "outputs": [],
   "source": [
    "import torch.nn as nn\n",
    "import torch.nn.functional as F\n",
    "\n",
    "class NeuralNetwork(nn.Module):\n",
    "    def __init__(self, layers_num=3, dropout_rate=0.3, initial_size=512):\n",
    "        super().__init__()\n",
    "        self.flatten = nn.Flatten()\n",
    "        \n",
    "        # 使用BatchNorm提高模型稳定性和训练速度\n",
    "        self.linear_relu_stack = nn.Sequential(\n",
    "            nn.Linear(28*28, initial_size),\n",
    "            # nn.BatchNorm1d(initial_size),\n",
    "            nn.ReLU(),\n",
    "            nn.Dropout(p=dropout_rate),\n",
    "        )\n",
    "        \n",
    "        # 构建漏斗形网络结构，逐层减小神经元数量\n",
    "        current_size = initial_size\n",
    "        for i in range(1, layers_num):\n",
    "            next_size = current_size // 2  # 每层减半\n",
    "            self.linear_relu_stack.add_module(f\"Linear_{i}\", nn.Linear(current_size, next_size))\n",
    "            # self.linear_relu_stack.add_module(f\"BatchNorm_{i}\", nn.BatchNorm1d(next_size))\n",
    "            self.linear_relu_stack.add_module(f\"relu_{i}\", nn.ReLU())\n",
    "            self.linear_relu_stack.add_module(f\"dropout_{i}\", nn.Dropout(p=dropout_rate))\n",
    "            current_size = next_size\n",
    "            \n",
    "        # 输出层使用较小的dropout\n",
    "        self.linear_relu_stack.add_module(\"Output_dropout\", nn.Dropout(p=0.1))\n",
    "        self.linear_relu_stack.add_module(\"Output_Layer\", nn.Linear(current_size, 10))\n",
    "        \n",
    "        self.init_weights()\n",
    "        \n",
    "    def init_weights(self):\n",
    "        \"\"\"使用 xavier 均匀分布来初始化全连接层的权重 W\"\"\"\n",
    "        for m in self.modules():\n",
    "            if isinstance(m, nn.Linear):\n",
    "                # 使用kaiming初始化，更适合ReLU激活函数\n",
    "                nn.init.kaiming_normal_(m.weight, mode='fan_out', nonlinearity='relu')\n",
    "                # 使用小的正数初始化偏置，避免dead ReLU\n",
    "                nn.init.constant_(m.bias, 0.01)\n",
    "                \n",
    "    def forward(self, x):\n",
    "        # x.shape [batch size, 1, 28, 28]\n",
    "        x = self.flatten(x)  \n",
    "        # 展平后 x.shape [batch size, 28 * 28]\n",
    "        logits = self.linear_relu_stack(x)\n",
    "        # logits.shape [batch size, 10]\n",
    "        return logits"
   ]
  },
  {
   "cell_type": "code",
   "execution_count": 105,
   "id": "8511a477",
   "metadata": {},
   "outputs": [
    {
     "name": "stdout",
     "output_type": "stream",
     "text": [
      "批次图像形状: torch.Size([64, 1, 28, 28])\n",
      "批次标签形状: torch.Size([64])\n",
      "测试图像形状: torch.Size([1, 1, 28, 28])\n",
      "----------------------------------------------------------------------------------------------------\n",
      "模型输出的形状: torch.Size([64, 10])\n",
      "预测结果形状: torch.Size([64])\n",
      "模型预测结果: 7\n",
      "实际标签: 0\n"
     ]
    }
   ],
   "source": [
    "# 实例化模型\n",
    "model=NeuralNetwork()\n",
    "\n",
    "# 从train_loader获取第一个批次的数据\n",
    "dataiter=iter(train_loader) # iter()方法返回一个迭代器对象\n",
    "images,labels=next(dataiter) # next()方法返回迭代器的下一个项目\n",
    "\n",
    "# 查看批次数据的形状\n",
    "print(\"批次图像形状:\",images.shape)\n",
    "print(\"批次标签形状:\",labels.shape)\n",
    "\n",
    "# 选择第一张图像进行前向传播测试,unsqueeze(0)是添加批次维度\n",
    "test_image = images[0].unsqueeze(0)  # 添加批次维度\n",
    "print(\"测试图像形状:\", test_image.shape)\n",
    "\n",
    "print('-'*100)\n",
    "\n",
    "with torch.no_grad(): # 禁用梯度计算\n",
    "    outputs=model(images)\n",
    "    print(\"模型输出的形状:\", outputs.shape)\n",
    "\n",
    "# 获取预测结果\n",
    "_, predicted = torch.max(outputs, 1) \n",
    "print(\"预测结果形状:\", predicted.shape)\n",
    "# torch.max()返回的是一个tuple，第一个元素是最大值，第二个元素是最大值的索引,\n",
    "# 第二个参数表示取最大值的方向\n",
    "print(\"模型预测结果:\", predicted[0].item())\n",
    "print(\"实际标签:\", labels[0].item())"
   ]
  },
  {
   "cell_type": "code",
   "execution_count": 106,
   "id": "9b797013",
   "metadata": {},
   "outputs": [
    {
     "name": "stdout",
     "output_type": "stream",
     "text": [
      "模型总参数量: 567434\n",
      "\n",
      "各层参数量明细:\n",
      "linear_relu_stack.0.weight: 401408 参数\n",
      "linear_relu_stack.0.bias: 512 参数\n",
      "linear_relu_stack.Linear_1.weight: 131072 参数\n",
      "linear_relu_stack.Linear_1.bias: 256 参数\n",
      "linear_relu_stack.Linear_2.weight: 32768 参数\n",
      "linear_relu_stack.Linear_2.bias: 128 参数\n",
      "linear_relu_stack.Output_Layer.weight: 1280 参数\n",
      "linear_relu_stack.Output_Layer.bias: 10 参数\n"
     ]
    }
   ],
   "source": [
    "# 计算模型的总参数量\n",
    "total_params = sum(p.numel() for p in model.parameters()) # numel() 返回元素数量\n",
    "print(f\"模型总参数量: {total_params}\")\n",
    "\n",
    "# 查看每层参数量明细\n",
    "print(\"\\n各层参数量明细:\")\n",
    "for name, param in model.named_parameters():\n",
    "    print(f\"{name}: {param.numel()} 参数\")"
   ]
  },
  {
   "cell_type": "code",
   "execution_count": 107,
   "id": "61615d40",
   "metadata": {},
   "outputs": [
    {
     "data": {
      "text/plain": [
       "OrderedDict([('linear_relu_stack.0.weight',\n",
       "              tensor([[ 0.0994, -0.1712,  0.0964,  ...,  0.1022, -0.0751, -0.0148],\n",
       "                      [-0.0418, -0.0791, -0.0655,  ..., -0.0765,  0.0536,  0.0010],\n",
       "                      [-0.0108, -0.0293, -0.1576,  ...,  0.0646,  0.0266, -0.0097],\n",
       "                      ...,\n",
       "                      [ 0.0547,  0.0048,  0.0758,  ..., -0.0255, -0.0386,  0.0004],\n",
       "                      [-0.0833,  0.0241,  0.0114,  ...,  0.0223,  0.0736,  0.0523],\n",
       "                      [ 0.0520,  0.0455, -0.0298,  ...,  0.1062,  0.0155,  0.0173]])),\n",
       "             ('linear_relu_stack.0.bias',\n",
       "              tensor([0.0100, 0.0100, 0.0100, 0.0100, 0.0100, 0.0100, 0.0100, 0.0100, 0.0100,\n",
       "                      0.0100, 0.0100, 0.0100, 0.0100, 0.0100, 0.0100, 0.0100, 0.0100, 0.0100,\n",
       "                      0.0100, 0.0100, 0.0100, 0.0100, 0.0100, 0.0100, 0.0100, 0.0100, 0.0100,\n",
       "                      0.0100, 0.0100, 0.0100, 0.0100, 0.0100, 0.0100, 0.0100, 0.0100, 0.0100,\n",
       "                      0.0100, 0.0100, 0.0100, 0.0100, 0.0100, 0.0100, 0.0100, 0.0100, 0.0100,\n",
       "                      0.0100, 0.0100, 0.0100, 0.0100, 0.0100, 0.0100, 0.0100, 0.0100, 0.0100,\n",
       "                      0.0100, 0.0100, 0.0100, 0.0100, 0.0100, 0.0100, 0.0100, 0.0100, 0.0100,\n",
       "                      0.0100, 0.0100, 0.0100, 0.0100, 0.0100, 0.0100, 0.0100, 0.0100, 0.0100,\n",
       "                      0.0100, 0.0100, 0.0100, 0.0100, 0.0100, 0.0100, 0.0100, 0.0100, 0.0100,\n",
       "                      0.0100, 0.0100, 0.0100, 0.0100, 0.0100, 0.0100, 0.0100, 0.0100, 0.0100,\n",
       "                      0.0100, 0.0100, 0.0100, 0.0100, 0.0100, 0.0100, 0.0100, 0.0100, 0.0100,\n",
       "                      0.0100, 0.0100, 0.0100, 0.0100, 0.0100, 0.0100, 0.0100, 0.0100, 0.0100,\n",
       "                      0.0100, 0.0100, 0.0100, 0.0100, 0.0100, 0.0100, 0.0100, 0.0100, 0.0100,\n",
       "                      0.0100, 0.0100, 0.0100, 0.0100, 0.0100, 0.0100, 0.0100, 0.0100, 0.0100,\n",
       "                      0.0100, 0.0100, 0.0100, 0.0100, 0.0100, 0.0100, 0.0100, 0.0100, 0.0100,\n",
       "                      0.0100, 0.0100, 0.0100, 0.0100, 0.0100, 0.0100, 0.0100, 0.0100, 0.0100,\n",
       "                      0.0100, 0.0100, 0.0100, 0.0100, 0.0100, 0.0100, 0.0100, 0.0100, 0.0100,\n",
       "                      0.0100, 0.0100, 0.0100, 0.0100, 0.0100, 0.0100, 0.0100, 0.0100, 0.0100,\n",
       "                      0.0100, 0.0100, 0.0100, 0.0100, 0.0100, 0.0100, 0.0100, 0.0100, 0.0100,\n",
       "                      0.0100, 0.0100, 0.0100, 0.0100, 0.0100, 0.0100, 0.0100, 0.0100, 0.0100,\n",
       "                      0.0100, 0.0100, 0.0100, 0.0100, 0.0100, 0.0100, 0.0100, 0.0100, 0.0100,\n",
       "                      0.0100, 0.0100, 0.0100, 0.0100, 0.0100, 0.0100, 0.0100, 0.0100, 0.0100,\n",
       "                      0.0100, 0.0100, 0.0100, 0.0100, 0.0100, 0.0100, 0.0100, 0.0100, 0.0100,\n",
       "                      0.0100, 0.0100, 0.0100, 0.0100, 0.0100, 0.0100, 0.0100, 0.0100, 0.0100,\n",
       "                      0.0100, 0.0100, 0.0100, 0.0100, 0.0100, 0.0100, 0.0100, 0.0100, 0.0100,\n",
       "                      0.0100, 0.0100, 0.0100, 0.0100, 0.0100, 0.0100, 0.0100, 0.0100, 0.0100,\n",
       "                      0.0100, 0.0100, 0.0100, 0.0100, 0.0100, 0.0100, 0.0100, 0.0100, 0.0100,\n",
       "                      0.0100, 0.0100, 0.0100, 0.0100, 0.0100, 0.0100, 0.0100, 0.0100, 0.0100,\n",
       "                      0.0100, 0.0100, 0.0100, 0.0100, 0.0100, 0.0100, 0.0100, 0.0100, 0.0100,\n",
       "                      0.0100, 0.0100, 0.0100, 0.0100, 0.0100, 0.0100, 0.0100, 0.0100, 0.0100,\n",
       "                      0.0100, 0.0100, 0.0100, 0.0100, 0.0100, 0.0100, 0.0100, 0.0100, 0.0100,\n",
       "                      0.0100, 0.0100, 0.0100, 0.0100, 0.0100, 0.0100, 0.0100, 0.0100, 0.0100,\n",
       "                      0.0100, 0.0100, 0.0100, 0.0100, 0.0100, 0.0100, 0.0100, 0.0100, 0.0100,\n",
       "                      0.0100, 0.0100, 0.0100, 0.0100, 0.0100, 0.0100, 0.0100, 0.0100, 0.0100,\n",
       "                      0.0100, 0.0100, 0.0100, 0.0100, 0.0100, 0.0100, 0.0100, 0.0100, 0.0100,\n",
       "                      0.0100, 0.0100, 0.0100, 0.0100, 0.0100, 0.0100, 0.0100, 0.0100, 0.0100,\n",
       "                      0.0100, 0.0100, 0.0100, 0.0100, 0.0100, 0.0100, 0.0100, 0.0100, 0.0100,\n",
       "                      0.0100, 0.0100, 0.0100, 0.0100, 0.0100, 0.0100, 0.0100, 0.0100, 0.0100,\n",
       "                      0.0100, 0.0100, 0.0100, 0.0100, 0.0100, 0.0100, 0.0100, 0.0100, 0.0100,\n",
       "                      0.0100, 0.0100, 0.0100, 0.0100, 0.0100, 0.0100, 0.0100, 0.0100, 0.0100,\n",
       "                      0.0100, 0.0100, 0.0100, 0.0100, 0.0100, 0.0100, 0.0100, 0.0100, 0.0100,\n",
       "                      0.0100, 0.0100, 0.0100, 0.0100, 0.0100, 0.0100, 0.0100, 0.0100, 0.0100,\n",
       "                      0.0100, 0.0100, 0.0100, 0.0100, 0.0100, 0.0100, 0.0100, 0.0100, 0.0100,\n",
       "                      0.0100, 0.0100, 0.0100, 0.0100, 0.0100, 0.0100, 0.0100, 0.0100, 0.0100,\n",
       "                      0.0100, 0.0100, 0.0100, 0.0100, 0.0100, 0.0100, 0.0100, 0.0100, 0.0100,\n",
       "                      0.0100, 0.0100, 0.0100, 0.0100, 0.0100, 0.0100, 0.0100, 0.0100, 0.0100,\n",
       "                      0.0100, 0.0100, 0.0100, 0.0100, 0.0100, 0.0100, 0.0100, 0.0100, 0.0100,\n",
       "                      0.0100, 0.0100, 0.0100, 0.0100, 0.0100, 0.0100, 0.0100, 0.0100, 0.0100,\n",
       "                      0.0100, 0.0100, 0.0100, 0.0100, 0.0100, 0.0100, 0.0100, 0.0100, 0.0100,\n",
       "                      0.0100, 0.0100, 0.0100, 0.0100, 0.0100, 0.0100, 0.0100, 0.0100, 0.0100,\n",
       "                      0.0100, 0.0100, 0.0100, 0.0100, 0.0100, 0.0100, 0.0100, 0.0100, 0.0100,\n",
       "                      0.0100, 0.0100, 0.0100, 0.0100, 0.0100, 0.0100, 0.0100, 0.0100, 0.0100,\n",
       "                      0.0100, 0.0100, 0.0100, 0.0100, 0.0100, 0.0100, 0.0100, 0.0100, 0.0100,\n",
       "                      0.0100, 0.0100, 0.0100, 0.0100, 0.0100, 0.0100, 0.0100, 0.0100, 0.0100,\n",
       "                      0.0100, 0.0100, 0.0100, 0.0100, 0.0100, 0.0100, 0.0100, 0.0100, 0.0100,\n",
       "                      0.0100, 0.0100, 0.0100, 0.0100, 0.0100, 0.0100, 0.0100, 0.0100, 0.0100,\n",
       "                      0.0100, 0.0100, 0.0100, 0.0100, 0.0100, 0.0100, 0.0100, 0.0100])),\n",
       "             ('linear_relu_stack.Linear_1.weight',\n",
       "              tensor([[ 0.0778, -0.0054,  0.0772,  ...,  0.1556,  0.0986, -0.0676],\n",
       "                      [-0.1781, -0.0448, -0.0738,  ..., -0.1411,  0.1189,  0.0445],\n",
       "                      [-0.1158, -0.0308,  0.0142,  ..., -0.2010, -0.1006,  0.0997],\n",
       "                      ...,\n",
       "                      [ 0.0067, -0.1160, -0.0872,  ...,  0.0442,  0.0091, -0.0905],\n",
       "                      [ 0.0399, -0.0971, -0.0562,  ..., -0.0218,  0.0216,  0.1047],\n",
       "                      [-0.0962, -0.1422, -0.0638,  ...,  0.0143, -0.0247, -0.1221]])),\n",
       "             ('linear_relu_stack.Linear_1.bias',\n",
       "              tensor([0.0100, 0.0100, 0.0100, 0.0100, 0.0100, 0.0100, 0.0100, 0.0100, 0.0100,\n",
       "                      0.0100, 0.0100, 0.0100, 0.0100, 0.0100, 0.0100, 0.0100, 0.0100, 0.0100,\n",
       "                      0.0100, 0.0100, 0.0100, 0.0100, 0.0100, 0.0100, 0.0100, 0.0100, 0.0100,\n",
       "                      0.0100, 0.0100, 0.0100, 0.0100, 0.0100, 0.0100, 0.0100, 0.0100, 0.0100,\n",
       "                      0.0100, 0.0100, 0.0100, 0.0100, 0.0100, 0.0100, 0.0100, 0.0100, 0.0100,\n",
       "                      0.0100, 0.0100, 0.0100, 0.0100, 0.0100, 0.0100, 0.0100, 0.0100, 0.0100,\n",
       "                      0.0100, 0.0100, 0.0100, 0.0100, 0.0100, 0.0100, 0.0100, 0.0100, 0.0100,\n",
       "                      0.0100, 0.0100, 0.0100, 0.0100, 0.0100, 0.0100, 0.0100, 0.0100, 0.0100,\n",
       "                      0.0100, 0.0100, 0.0100, 0.0100, 0.0100, 0.0100, 0.0100, 0.0100, 0.0100,\n",
       "                      0.0100, 0.0100, 0.0100, 0.0100, 0.0100, 0.0100, 0.0100, 0.0100, 0.0100,\n",
       "                      0.0100, 0.0100, 0.0100, 0.0100, 0.0100, 0.0100, 0.0100, 0.0100, 0.0100,\n",
       "                      0.0100, 0.0100, 0.0100, 0.0100, 0.0100, 0.0100, 0.0100, 0.0100, 0.0100,\n",
       "                      0.0100, 0.0100, 0.0100, 0.0100, 0.0100, 0.0100, 0.0100, 0.0100, 0.0100,\n",
       "                      0.0100, 0.0100, 0.0100, 0.0100, 0.0100, 0.0100, 0.0100, 0.0100, 0.0100,\n",
       "                      0.0100, 0.0100, 0.0100, 0.0100, 0.0100, 0.0100, 0.0100, 0.0100, 0.0100,\n",
       "                      0.0100, 0.0100, 0.0100, 0.0100, 0.0100, 0.0100, 0.0100, 0.0100, 0.0100,\n",
       "                      0.0100, 0.0100, 0.0100, 0.0100, 0.0100, 0.0100, 0.0100, 0.0100, 0.0100,\n",
       "                      0.0100, 0.0100, 0.0100, 0.0100, 0.0100, 0.0100, 0.0100, 0.0100, 0.0100,\n",
       "                      0.0100, 0.0100, 0.0100, 0.0100, 0.0100, 0.0100, 0.0100, 0.0100, 0.0100,\n",
       "                      0.0100, 0.0100, 0.0100, 0.0100, 0.0100, 0.0100, 0.0100, 0.0100, 0.0100,\n",
       "                      0.0100, 0.0100, 0.0100, 0.0100, 0.0100, 0.0100, 0.0100, 0.0100, 0.0100,\n",
       "                      0.0100, 0.0100, 0.0100, 0.0100, 0.0100, 0.0100, 0.0100, 0.0100, 0.0100,\n",
       "                      0.0100, 0.0100, 0.0100, 0.0100, 0.0100, 0.0100, 0.0100, 0.0100, 0.0100,\n",
       "                      0.0100, 0.0100, 0.0100, 0.0100, 0.0100, 0.0100, 0.0100, 0.0100, 0.0100,\n",
       "                      0.0100, 0.0100, 0.0100, 0.0100, 0.0100, 0.0100, 0.0100, 0.0100, 0.0100,\n",
       "                      0.0100, 0.0100, 0.0100, 0.0100, 0.0100, 0.0100, 0.0100, 0.0100, 0.0100,\n",
       "                      0.0100, 0.0100, 0.0100, 0.0100, 0.0100, 0.0100, 0.0100, 0.0100, 0.0100,\n",
       "                      0.0100, 0.0100, 0.0100, 0.0100, 0.0100, 0.0100, 0.0100, 0.0100, 0.0100,\n",
       "                      0.0100, 0.0100, 0.0100, 0.0100])),\n",
       "             ('linear_relu_stack.Linear_2.weight',\n",
       "              tensor([[-0.0274, -0.0257, -0.2309,  ...,  0.1491,  0.0398, -0.0842],\n",
       "                      [ 0.1018,  0.1089,  0.0658,  ..., -0.0620,  0.0379,  0.0036],\n",
       "                      [ 0.0297,  0.0171, -0.0467,  ...,  0.1064, -0.1045, -0.1060],\n",
       "                      ...,\n",
       "                      [-0.0997, -0.1277, -0.0499,  ...,  0.0480,  0.1080, -0.0527],\n",
       "                      [-0.0879,  0.0185, -0.1640,  ...,  0.1222, -0.0322,  0.1144],\n",
       "                      [ 0.2050,  0.0048, -0.0578,  ..., -0.0469,  0.1181,  0.1262]])),\n",
       "             ('linear_relu_stack.Linear_2.bias',\n",
       "              tensor([0.0100, 0.0100, 0.0100, 0.0100, 0.0100, 0.0100, 0.0100, 0.0100, 0.0100,\n",
       "                      0.0100, 0.0100, 0.0100, 0.0100, 0.0100, 0.0100, 0.0100, 0.0100, 0.0100,\n",
       "                      0.0100, 0.0100, 0.0100, 0.0100, 0.0100, 0.0100, 0.0100, 0.0100, 0.0100,\n",
       "                      0.0100, 0.0100, 0.0100, 0.0100, 0.0100, 0.0100, 0.0100, 0.0100, 0.0100,\n",
       "                      0.0100, 0.0100, 0.0100, 0.0100, 0.0100, 0.0100, 0.0100, 0.0100, 0.0100,\n",
       "                      0.0100, 0.0100, 0.0100, 0.0100, 0.0100, 0.0100, 0.0100, 0.0100, 0.0100,\n",
       "                      0.0100, 0.0100, 0.0100, 0.0100, 0.0100, 0.0100, 0.0100, 0.0100, 0.0100,\n",
       "                      0.0100, 0.0100, 0.0100, 0.0100, 0.0100, 0.0100, 0.0100, 0.0100, 0.0100,\n",
       "                      0.0100, 0.0100, 0.0100, 0.0100, 0.0100, 0.0100, 0.0100, 0.0100, 0.0100,\n",
       "                      0.0100, 0.0100, 0.0100, 0.0100, 0.0100, 0.0100, 0.0100, 0.0100, 0.0100,\n",
       "                      0.0100, 0.0100, 0.0100, 0.0100, 0.0100, 0.0100, 0.0100, 0.0100, 0.0100,\n",
       "                      0.0100, 0.0100, 0.0100, 0.0100, 0.0100, 0.0100, 0.0100, 0.0100, 0.0100,\n",
       "                      0.0100, 0.0100, 0.0100, 0.0100, 0.0100, 0.0100, 0.0100, 0.0100, 0.0100,\n",
       "                      0.0100, 0.0100, 0.0100, 0.0100, 0.0100, 0.0100, 0.0100, 0.0100, 0.0100,\n",
       "                      0.0100, 0.0100])),\n",
       "             ('linear_relu_stack.Output_Layer.weight',\n",
       "              tensor([[ 0.1543,  0.7123, -0.5413,  ..., -0.4068, -0.2980, -0.2833],\n",
       "                      [ 0.2686, -0.8151, -0.1731,  ...,  0.0870,  0.6219, -0.1089],\n",
       "                      [ 0.1637,  0.4060, -0.1676,  ...,  0.0099,  0.2539,  0.5719],\n",
       "                      ...,\n",
       "                      [ 0.6129, -0.1048, -0.3234,  ...,  0.1379, -0.1567,  0.6319],\n",
       "                      [-0.5439, -0.6092,  0.3435,  ..., -0.1733,  0.1545, -0.5128],\n",
       "                      [-0.2334, -0.3919,  0.2335,  ...,  0.4054,  0.3958,  0.1293]])),\n",
       "             ('linear_relu_stack.Output_Layer.bias',\n",
       "              tensor([0.0100, 0.0100, 0.0100, 0.0100, 0.0100, 0.0100, 0.0100, 0.0100, 0.0100,\n",
       "                      0.0100]))])"
      ]
     },
     "execution_count": 107,
     "metadata": {},
     "output_type": "execute_result"
    }
   ],
   "source": [
    "model.state_dict() # 获取模型参数"
   ]
  },
  {
   "cell_type": "code",
   "execution_count": 108,
   "id": "11b8d95d",
   "metadata": {},
   "outputs": [],
   "source": [
    "from torch.utils.tensorboard import SummaryWriter\n",
    "class TensorboardLogger:\n",
    "    \"\"\"\n",
    "    Tensorboard日志记录类：记录训练过程中的损失和准确率\n",
    "    \n",
    "    参数:\n",
    "        log_dir: 日志保存目录\n",
    "    \"\"\"\n",
    "    def __init__(self,log_dir='tensorboard_log'):\n",
    "        import os\n",
    "        # 确保日志目录存在\n",
    "        if not os.path.exists(log_dir):\n",
    "            os.mkdir(log_dir)\n",
    "        \n",
    "        self.writer=SummaryWriter(log_dir) # 实例化SummaryWriter, log_dir是log存放路径，flush_secs是每隔多少秒写入磁盘\n",
    "\n",
    "    def log_training(self,epoch,train_loss,train_acc):\n",
    "        \"\"\"\n",
    "        记录训练数据\n",
    "        \n",
    "        参数:\n",
    "            epoch: 当前训练轮数\n",
    "            train_loss: 训练损失\n",
    "            train_acc: 训练准确率\n",
    "        \"\"\"\n",
    "        self.writer.add_scalar('train_loss',train_loss,epoch)\n",
    "        self.writer.add_scalar('train_acc',train_acc,epoch)\n",
    "    \n",
    "    def log_validation(self,epoch,val_loss,val_acc):\n",
    "        \"\"\"\n",
    "        记录验证数据\n",
    "        \n",
    "        参数:\n",
    "            epoch: 当前训练轮数\n",
    "            val_loss: 验证损失\n",
    "            val_acc: 验证准确率\n",
    "        \"\"\"\n",
    "        self.writer.add_scalar('val_loss',val_loss,epoch)\n",
    "        self.writer.add_scalar('val_acc',val_acc,epoch)\n",
    "    \n",
    "    def log_lr(self,epoch,lr):\n",
    "        \"\"\"\n",
    "        记录学习率\n",
    "        \n",
    "        参数:\n",
    "            epoch: 当前训练轮数\n",
    "            lr: 学习率\n",
    "        \"\"\"\n",
    "        self.writer.add_scalar('lr',lr,epoch)\n",
    "    \n",
    "    def log_model_graph(self,model,images):\n",
    "        \"\"\"\n",
    "        记录模型结构图\n",
    "        \n",
    "        参数:\n",
    "            model: 模型\n",
    "            images: 输入图像样本\n",
    "        \"\"\" \n",
    "        self.writer.add_graph(model,images)\n",
    "    \n",
    "    def closs(self):\n",
    "        \"\"\"\n",
    "        关闭Tensorboard写入器\n",
    "        \"\"\"\n",
    "        self.writer.close()"
   ]
  },
  {
   "cell_type": "markdown",
   "id": "d29c1f9a",
   "metadata": {},
   "source": [
    "# 设置交叉熵损失函数，SGD优化器"
   ]
  },
  {
   "cell_type": "code",
   "execution_count": 109,
   "id": "38a2c883",
   "metadata": {},
   "outputs": [
    {
     "name": "stdout",
     "output_type": "stream",
     "text": [
      "损失函数: CrossEntropyLoss()\n",
      "优化器: Adam (\n",
      "Parameter Group 0\n",
      "    amsgrad: False\n",
      "    betas: (0.9, 0.999)\n",
      "    capturable: False\n",
      "    decoupled_weight_decay: False\n",
      "    differentiable: False\n",
      "    eps: 1e-08\n",
      "    foreach: None\n",
      "    fused: None\n",
      "    lr: 0.001\n",
      "    maximize: False\n",
      "    weight_decay: 0\n",
      ")\n"
     ]
    }
   ],
   "source": [
    "model=NeuralNetwork()\n",
    "# 定义损失函数和优化器\n",
    "loss_fn = nn.CrossEntropyLoss() # 交叉熵损失函数，适用于多分类问题，里边会做softmax，还有会把0-9标签转换成one-hot编码\n",
    "optimizer = torch.optim.Adam(model.parameters()) # SGD优化器，学习率为0.01，动量为0.9\n",
    "print(\"损失函数:\",loss_fn)\n",
    "print(\"优化器:\",optimizer)"
   ]
  },
  {
   "cell_type": "code",
   "execution_count": 110,
   "id": "83207833",
   "metadata": {},
   "outputs": [],
   "source": [
    "device=torch.device(\"cuda:0\" if torch.cuda.is_available() else \"cpu\")\n",
    "model =NeuralNetwork(dropout_rate=0)\n",
    "model.to(device)\n",
    "optimizer=torch.optim.Adam(model.parameters())"
   ]
  },
  {
   "cell_type": "code",
   "execution_count": 111,
   "id": "34ec2d61",
   "metadata": {},
   "outputs": [
    {
     "name": "stdout",
     "output_type": "stream",
     "text": [
      "当前设备: cuda:0\n",
      "训练开始，共25800步\n"
     ]
    },
    {
     "data": {
      "application/vnd.jupyter.widget-view+json": {
       "model_id": "b8ddfb4c07a34042b7d050ffe32e47dc",
       "version_major": 2,
       "version_minor": 0
      },
      "text/plain": [
       "  0%|          | 0/25800 [00:00<?, ?it/s]"
      ]
     },
     "metadata": {},
     "output_type": "display_data"
    },
    {
     "name": "stdout",
     "output_type": "stream",
     "text": [
      "早停触发! 最佳验证准确率: 88.8000\n",
      "早停: 已有5轮验证损失没有改善！\n"
     ]
    }
   ],
   "source": [
    "\n",
    "# device='cpu'\n",
    "print(f\"当前设备: {device}\")\n",
    "\n",
    "# 设置更合适的dropout参数\n",
    "dropout_rate = 0.3  # 设置适中的dropout比率，避免过拟合\n",
    "model.apply(lambda m: setattr(m, 'dropout', dropout_rate) if hasattr(m, 'dropout') else None)\n",
    "\n",
    "early_stopping=EarlyStopping(patience=5, delta=0)\n",
    "model_saver=ModelSaver(save_dir='model_weights', save_best_only=True)\n",
    "tensorboard_logger=TensorboardLogger(log_dir='logs')\n",
    "\n",
    "# 使用更新后的dropout率训练模型\n",
    "model, history = train_classification_model(\n",
    "    model, \n",
    "    train_loader, \n",
    "    val_loader, \n",
    "    loss_fn, \n",
    "    optimizer, \n",
    "    device, \n",
    "    num_epochs=30, \n",
    "    early_stopping=early_stopping, \n",
    "    model_saver=model_saver, \n",
    "    tensorboard_logger=tensorboard_logger\n",
    ")\n"
   ]
  },
  {
   "cell_type": "code",
   "execution_count": 112,
   "id": "6d7db167",
   "metadata": {},
   "outputs": [
    {
     "data": {
      "text/plain": [
       "[{'loss': 0.389499306678772, 'acc': 85.9375, 'step': 10901},\n",
       " {'loss': 0.3654724061489105, 'acc': 85.9375, 'step': 10902},\n",
       " {'loss': 0.28709617257118225, 'acc': 89.0625, 'step': 10903},\n",
       " {'loss': 0.24947471916675568, 'acc': 93.75, 'step': 10904},\n",
       " {'loss': 0.4203468859195709, 'acc': 81.25, 'step': 10905},\n",
       " {'loss': 0.27296990156173706, 'acc': 87.5, 'step': 10906},\n",
       " {'loss': 0.23047426342964172, 'acc': 89.0625, 'step': 10907},\n",
       " {'loss': 0.25178515911102295, 'acc': 89.0625, 'step': 10908},\n",
       " {'loss': 0.1896083652973175, 'acc': 92.1875, 'step': 10909},\n",
       " {'loss': 0.20574252307415009, 'acc': 93.75, 'step': 10910},\n",
       " {'loss': 0.40112727880477905, 'acc': 85.9375, 'step': 10911},\n",
       " {'loss': 0.13137228786945343, 'acc': 95.3125, 'step': 10912},\n",
       " {'loss': 0.19014930725097656, 'acc': 95.3125, 'step': 10913},\n",
       " {'loss': 0.2049933820962906, 'acc': 93.75, 'step': 10914},\n",
       " {'loss': 0.13838960230350494, 'acc': 92.1875, 'step': 10915},\n",
       " {'loss': 0.34289559721946716, 'acc': 92.1875, 'step': 10916},\n",
       " {'loss': 0.16315123438835144, 'acc': 92.1875, 'step': 10917},\n",
       " {'loss': 0.25693127512931824, 'acc': 90.625, 'step': 10918},\n",
       " {'loss': 0.28529229760169983, 'acc': 89.0625, 'step': 10919},\n",
       " {'loss': 0.27620863914489746, 'acc': 90.625, 'step': 10920},\n",
       " {'loss': 0.19231173396110535, 'acc': 93.75, 'step': 10921},\n",
       " {'loss': 0.24650897085666656, 'acc': 92.1875, 'step': 10922},\n",
       " {'loss': 0.14601628482341766, 'acc': 95.3125, 'step': 10923},\n",
       " {'loss': 0.3675343990325928, 'acc': 84.375, 'step': 10924},\n",
       " {'loss': 0.09980443865060806, 'acc': 95.3125, 'step': 10925},\n",
       " {'loss': 0.22307775914669037, 'acc': 93.75, 'step': 10926},\n",
       " {'loss': 0.12973366677761078, 'acc': 96.875, 'step': 10927},\n",
       " {'loss': 0.294337660074234, 'acc': 90.625, 'step': 10928},\n",
       " {'loss': 0.17630787193775177, 'acc': 93.75, 'step': 10929},\n",
       " {'loss': 0.23551534116268158, 'acc': 87.5, 'step': 10930},\n",
       " {'loss': 0.24972066283226013, 'acc': 95.3125, 'step': 10931},\n",
       " {'loss': 0.2328256368637085, 'acc': 90.625, 'step': 10932},\n",
       " {'loss': 0.49285078048706055, 'acc': 84.375, 'step': 10933},\n",
       " {'loss': 0.21733137965202332, 'acc': 92.1875, 'step': 10934},\n",
       " {'loss': 0.15400099754333496, 'acc': 95.3125, 'step': 10935},\n",
       " {'loss': 0.23362430930137634, 'acc': 95.3125, 'step': 10936},\n",
       " {'loss': 0.2655112147331238, 'acc': 92.1875, 'step': 10937},\n",
       " {'loss': 0.15815038979053497, 'acc': 96.875, 'step': 10938},\n",
       " {'loss': 0.16627584397792816, 'acc': 90.625, 'step': 10939},\n",
       " {'loss': 0.18622274696826935, 'acc': 92.1875, 'step': 10940},\n",
       " {'loss': 0.18082746863365173, 'acc': 90.625, 'step': 10941},\n",
       " {'loss': 0.08845578134059906, 'acc': 95.3125, 'step': 10942},\n",
       " {'loss': 0.07940381020307541, 'acc': 96.875, 'step': 10943},\n",
       " {'loss': 0.2638816237449646, 'acc': 89.0625, 'step': 10944},\n",
       " {'loss': 0.1537741869688034, 'acc': 93.75, 'step': 10945},\n",
       " {'loss': 0.237676739692688, 'acc': 92.1875, 'step': 10946},\n",
       " {'loss': 0.23822861909866333, 'acc': 90.625, 'step': 10947},\n",
       " {'loss': 0.33079153299331665, 'acc': 89.0625, 'step': 10948},\n",
       " {'loss': 0.28503650426864624, 'acc': 87.5, 'step': 10949},\n",
       " {'loss': 0.25610092282295227, 'acc': 90.625, 'step': 10950},\n",
       " {'loss': 0.20037534832954407, 'acc': 87.5, 'step': 10951},\n",
       " {'loss': 0.17710992693901062, 'acc': 92.1875, 'step': 10952},\n",
       " {'loss': 0.2888358235359192, 'acc': 92.1875, 'step': 10953},\n",
       " {'loss': 0.10523102432489395, 'acc': 95.3125, 'step': 10954},\n",
       " {'loss': 0.2515857517719269, 'acc': 89.0625, 'step': 10955},\n",
       " {'loss': 0.2358095794916153, 'acc': 89.0625, 'step': 10956},\n",
       " {'loss': 0.15729956328868866, 'acc': 95.3125, 'step': 10957},\n",
       " {'loss': 0.09084874391555786, 'acc': 95.3125, 'step': 10958},\n",
       " {'loss': 0.32641661167144775, 'acc': 87.5, 'step': 10959},\n",
       " {'loss': 0.1596427708864212, 'acc': 93.75, 'step': 10960},\n",
       " {'loss': 0.11869034916162491, 'acc': 95.3125, 'step': 10961},\n",
       " {'loss': 0.17950281500816345, 'acc': 90.625, 'step': 10962},\n",
       " {'loss': 0.16773322224617004, 'acc': 96.875, 'step': 10963},\n",
       " {'loss': 0.23744140565395355, 'acc': 93.75, 'step': 10964},\n",
       " {'loss': 0.1100962832570076, 'acc': 96.875, 'step': 10965},\n",
       " {'loss': 0.2045840322971344, 'acc': 96.875, 'step': 10966},\n",
       " {'loss': 0.31494611501693726, 'acc': 89.0625, 'step': 10967},\n",
       " {'loss': 0.3255521059036255, 'acc': 89.0625, 'step': 10968},\n",
       " {'loss': 0.17030341923236847, 'acc': 90.625, 'step': 10969},\n",
       " {'loss': 0.37414100766181946, 'acc': 85.9375, 'step': 10970},\n",
       " {'loss': 0.06690482050180435, 'acc': 98.4375, 'step': 10971},\n",
       " {'loss': 0.24082116782665253, 'acc': 89.0625, 'step': 10972},\n",
       " {'loss': 0.3077433705329895, 'acc': 87.5, 'step': 10973},\n",
       " {'loss': 0.16636618971824646, 'acc': 95.3125, 'step': 10974},\n",
       " {'loss': 0.1621345728635788, 'acc': 92.1875, 'step': 10975},\n",
       " {'loss': 0.10074149817228317, 'acc': 95.3125, 'step': 10976},\n",
       " {'loss': 0.3006052076816559, 'acc': 87.5, 'step': 10977},\n",
       " {'loss': 0.23957480490207672, 'acc': 89.0625, 'step': 10978},\n",
       " {'loss': 0.13482357561588287, 'acc': 95.3125, 'step': 10979},\n",
       " {'loss': 0.14249040186405182, 'acc': 96.875, 'step': 10980},\n",
       " {'loss': 0.18375061452388763, 'acc': 87.5, 'step': 10981},\n",
       " {'loss': 0.1958763599395752, 'acc': 95.3125, 'step': 10982},\n",
       " {'loss': 0.19289767742156982, 'acc': 92.1875, 'step': 10983},\n",
       " {'loss': 0.15073013305664062, 'acc': 95.3125, 'step': 10984},\n",
       " {'loss': 0.21061521768569946, 'acc': 93.75, 'step': 10985},\n",
       " {'loss': 0.16658589243888855, 'acc': 95.3125, 'step': 10986},\n",
       " {'loss': 0.207899808883667, 'acc': 89.0625, 'step': 10987},\n",
       " {'loss': 0.4424988031387329, 'acc': 87.5, 'step': 10988},\n",
       " {'loss': 0.29381492733955383, 'acc': 92.1875, 'step': 10989},\n",
       " {'loss': 0.31283921003341675, 'acc': 89.0625, 'step': 10990},\n",
       " {'loss': 0.10704657435417175, 'acc': 98.4375, 'step': 10991},\n",
       " {'loss': 0.19393841922283173, 'acc': 89.0625, 'step': 10992},\n",
       " {'loss': 0.1755654215812683, 'acc': 92.1875, 'step': 10993},\n",
       " {'loss': 0.13784275949001312, 'acc': 96.875, 'step': 10994},\n",
       " {'loss': 0.24204057455062866, 'acc': 89.0625, 'step': 10995},\n",
       " {'loss': 0.20730073750019073, 'acc': 92.1875, 'step': 10996},\n",
       " {'loss': 0.3804183602333069, 'acc': 81.25, 'step': 10997},\n",
       " {'loss': 0.26118752360343933, 'acc': 90.625, 'step': 10998},\n",
       " {'loss': 0.1478559821844101, 'acc': 93.75, 'step': 10999}]"
      ]
     },
     "execution_count": 112,
     "metadata": {},
     "output_type": "execute_result"
    }
   ],
   "source": [
    "history['train'][-100:-1]"
   ]
  },
  {
   "cell_type": "code",
   "execution_count": 113,
   "id": "82473955",
   "metadata": {},
   "outputs": [
    {
     "data": {
      "text/plain": [
       "[{'loss': 9.7457617767334, 'acc': 30.88, 'step': 0},\n",
       " {'loss': 0.5433240834712982, 'acc': 81.14, 'step': 500},\n",
       " {'loss': 0.4477646896839142, 'acc': 84.98, 'step': 1000},\n",
       " {'loss': 0.43634826152324674, 'acc': 85.46, 'step': 1500},\n",
       " {'loss': 0.39578008375167845, 'acc': 85.88, 'step': 2000},\n",
       " {'loss': 0.3934589122533798, 'acc': 86.02, 'step': 2500},\n",
       " {'loss': 0.3805922467708588, 'acc': 86.3, 'step': 3000},\n",
       " {'loss': 0.3711166262149811, 'acc': 86.5, 'step': 3500},\n",
       " {'loss': 0.38197727813720705, 'acc': 86.06, 'step': 4000},\n",
       " {'loss': 0.365579871237278, 'acc': 87.32, 'step': 4500},\n",
       " {'loss': 0.3581553596496582, 'acc': 87.86, 'step': 5000},\n",
       " {'loss': 0.3628350303411484, 'acc': 87.68, 'step': 5500},\n",
       " {'loss': 0.39591904151439666, 'acc': 86.24, 'step': 6000},\n",
       " {'loss': 0.36865812709331514, 'acc': 87.94, 'step': 6500},\n",
       " {'loss': 0.3500225374341011, 'acc': 88.52, 'step': 7000},\n",
       " {'loss': 0.3518817224860191, 'acc': 88.46, 'step': 7500},\n",
       " {'loss': 0.3867493455410004, 'acc': 87.76, 'step': 8000},\n",
       " {'loss': 0.3429219190239906, 'acc': 88.8, 'step': 8500},\n",
       " {'loss': 0.34505357463657854, 'acc': 88.32, 'step': 9000},\n",
       " {'loss': 0.3677914311885834, 'acc': 88.28, 'step': 9500},\n",
       " {'loss': 0.3664188262224197, 'acc': 88.2, 'step': 10000},\n",
       " {'loss': 0.4000124234557152, 'acc': 88.32, 'step': 10500}]"
      ]
     },
     "execution_count": 113,
     "metadata": {},
     "output_type": "execute_result"
    }
   ],
   "source": [
    "history['val'][-1000:-1]"
   ]
  },
  {
   "cell_type": "markdown",
   "id": "8106d05d",
   "metadata": {},
   "source": [
    "# 绘制损失曲线和准确率曲线"
   ]
  },
  {
   "cell_type": "code",
   "execution_count": 114,
   "id": "add253a0",
   "metadata": {},
   "outputs": [
    {
     "data": {
      "image/png": "[encoded data removed]",
      "text/plain": [
       "<Figure size 1000x500 with 2 Axes>"
      ]
     },
     "metadata": {},
     "output_type": "display_data"
    }
   ],
   "source": [
    "plot_learning_curves(history,sample_step=500)"
   ]
  },
  {
   "cell_type": "code",
   "execution_count": 115,
   "id": "16092a19",
   "metadata": {},
   "outputs": [
    {
     "data": {
      "text/plain": [
       "(88.57, 0.3687142498612404)"
      ]
     },
     "execution_count": 115,
     "metadata": {},
     "output_type": "execute_result"
    }
   ],
   "source": [
    "test_accuracy=evaluate_model(model,test_loader,device,loss_fn)\n",
    "test_accuracy"
   ]
  },
  {
   "cell_type": "code",
   "execution_count": null,
   "id": "05d8efe4",
   "metadata": {},
   "outputs": [],
   "source": []
  }
 ],
 "metadata": {
  "kernelspec": {
   "display_name": "Python 3",
   "language": "python",
   "name": "python3"
  },
  "language_info": {
   "codemirror_mode": {
    "name": "ipython",
    "version": 3
   },
   "file_extension": ".py",
   "mimetype": "text/x-python",
   "name": "python",
   "nbconvert_exporter": "python",
   "pygments_lexer": "ipython3",
   "version": "3.12.3"
  }
 },
 "nbformat": 4,
 "nbformat_minor": 5
}
