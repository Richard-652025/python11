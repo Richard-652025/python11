{
 "cells": [
  {
   "cell_type": "code",
   "execution_count": 41,
   "id": "2da67c1bfb8c9e84",
   "metadata": {
    "ExecuteTime": {
     "end_time": "2025-06-26T14:03:29.449501Z",
     "start_time": "2025-06-26T14:03:29.446585Z"
    }
   },
   "outputs": [
    {
     "name": "stdout",
     "output_type": "stream",
     "text": [
      "['c:\\\\Program Files\\\\Python312\\\\python312.zip', 'c:\\\\Program Files\\\\Python312\\\\DLLs', 'c:\\\\Program Files\\\\Python312\\\\Lib', 'c:\\\\Program Files\\\\Python312', '', 'C:\\\\Users\\\\苏怡鸣\\\\AppData\\\\Roaming\\\\Python\\\\Python312\\\\site-packages', 'C:\\\\Users\\\\苏怡鸣\\\\AppData\\\\Roaming\\\\Python\\\\Python312\\\\site-packages\\\\win32', 'C:\\\\Users\\\\苏怡鸣\\\\AppData\\\\Roaming\\\\Python\\\\Python312\\\\site-packages\\\\win32\\\\lib', 'C:\\\\Users\\\\苏怡鸣\\\\AppData\\\\Roaming\\\\Python\\\\Python312\\\\site-packages\\\\Pythonwin', 'c:\\\\Program Files\\\\Python312\\\\Lib\\\\site-packages']\n"
     ]
    }
   ],
   "source": [
    "import sys\n",
    "print(sys.path)"
   ]
  },
  {
   "cell_type": "code",
   "execution_count": 42,
   "id": "38254d3a",
   "metadata": {},
   "outputs": [],
   "source": [
    "# import numpy as np\n",
    "# import pandas as pd\n",
    "# import matplotlib.pyplot as plt\n",
    "# from sklearn.datasets import fetch_california_housing\n",
    "# from sklearn.model_selection import train_test_split\n",
    "# from sklearn.preprocessing import StandardScaler\n",
    "# import torch\n",
    "# import torch.nn as nn\n",
    "# import torch.optim as optim\n",
    "# from torch.utils.data import DataLoader, Dataset\n",
    "# from tqdm.auto import tqdm\n",
    "# from wangdao_deeplearning_train import EarlyStopping,ModelSaver\n",
    "# from wangdao_deeplearning_train import plot_learning_curves,plot_learning_loss_curves\n",
    "# import os\n"
   ]
  },
  {
   "cell_type": "code",
   "execution_count": 43,
   "id": "4f49ca31",
   "metadata": {},
   "outputs": [],
   "source": [
    "import numpy as np\n",
    "import pandas as pd\n",
    "import matplotlib.pyplot as plt\n",
    "from sklearn.datasets import fetch_california_housing\n",
    "from sklearn.model_selection import train_test_split\n",
    "from sklearn.preprocessing import StandardScaler\n",
    "import torch\n",
    "import torch.nn as nn\n",
    "import torch.optim as optim\n",
    "from torch.utils.data import DataLoader, Dataset\n",
    "from tqdm.auto import tqdm\n",
    "from deeplearning_train import EarlyStopping,ModelSaver\n",
    "from deeplearning_train import plot_learning_curves,plot_learning_loss_curves\n",
    "import os\n"
   ]
  },
  {
   "cell_type": "code",
   "execution_count": 44,
   "id": "932bc6b1",
   "metadata": {
    "ExecuteTime": {
     "end_time": "2025-06-26T14:03:29.494020Z",
     "start_time": "2025-06-26T14:03:29.477020Z"
    }
   },
   "outputs": [
    {
     "name": "stdout",
     "output_type": "stream",
     "text": [
      "训练集大小: 13209\n",
      "验证集大小: 3303\n",
      "测试集大小: 4128\n"
     ]
    }
   ],
   "source": [
    "# 设置中文字体支持\n",
    "plt.rcParams['font.sans-serif'] = ['SimHei']  # 用来正常显示中文标签\n",
    "plt.rcParams['axes.unicode_minus'] = False  # 用来正常显示负号\n",
    "\n",
    "# 加载加利福尼亚房价数据集\n",
    "housing = fetch_california_housing()\n",
    "X = housing.data\n",
    "y = housing.target\n",
    "\n",
    "# 数据拆分：训练集(60%)、验证集(20%)、测试集(20%)\n",
    "X_train_val, X_test, y_train_val, y_test = train_test_split(X, y, test_size=0.2, random_state=42)\n",
    "X_train, X_val, y_train, y_val = train_test_split(X_train_val, y_train_val, test_size=0.2, random_state=42)  # 0.25 x 0.8 = 0.2\n",
    "\n",
    "print(f\"训练集大小: {X_train.shape[0]}\")\n",
    "print(f\"验证集大小: {X_val.shape[0]}\")\n",
    "print(f\"测试集大小: {X_test.shape[0]}\")\n",
    "\n",
    "# 数据标准化\n",
    "scaler = StandardScaler()\n",
    "X_train_scaled = scaler.fit_transform(X_train)\n",
    "X_val_scaled = scaler.transform(X_val)\n",
    "X_test_scaled = scaler.transform(X_test)\n",
    "\n",
    "# 自定义数据集类\n",
    "class HousingDataset(Dataset):\n",
    "    def __init__(self, features, targets):\n",
    "        self.features = torch.FloatTensor(features)\n",
    "        self.targets = torch.FloatTensor(targets).view(-1, 1)\n",
    "        \n",
    "    def __len__(self):\n",
    "        return len(self.features) #返回样本数量\n",
    "    \n",
    "    def __getitem__(self, idx): #传入索引，返回对应索引样本的特征和目标\n",
    "        return self.features[idx], self.targets[idx]\n",
    "\n",
    "# 创建数据集实例\n",
    "train_dataset = HousingDataset(X_train_scaled, y_train)\n",
    "val_dataset = HousingDataset(X_val_scaled, y_val)\n",
    "test_dataset = HousingDataset(X_test_scaled, y_test)\n"
   ]
  },
  {
   "cell_type": "markdown",
   "id": "1c60104c",
   "metadata": {},
   "source": [
    "# 加载数据集，构建模型"
   ]
  },
  {
   "cell_type": "code",
   "execution_count": 45,
   "id": "10e71260",
   "metadata": {
    "ExecuteTime": {
     "end_time": "2025-06-26T14:03:29.513464Z",
     "start_time": "2025-06-26T14:03:29.509178Z"
    }
   },
   "outputs": [
    {
     "name": "stdout",
     "output_type": "stream",
     "text": [
      "RegressionModel(\n",
      "  (layer1): Linear(in_features=8, out_features=30, bias=True)\n",
      "  (activation): ReLU()\n",
      "  (output): Linear(in_features=30, out_features=1, bias=True)\n",
      ")\n"
     ]
    }
   ],
   "source": [
    "# 创建数据加载器\n",
    "train_loader = DataLoader(train_dataset, batch_size=32, shuffle=True)\n",
    "val_loader = DataLoader(val_dataset, batch_size=32)\n",
    "test_loader = DataLoader(test_dataset, batch_size=32)\n",
    "\n",
    "# 定义神经网络模型\n",
    "class RegressionModel(nn.Module):\n",
    "    def __init__(self, input_dim):\n",
    "        super(RegressionModel, self).__init__()\n",
    "        self.layer1 = nn.Linear(input_dim, 30)\n",
    "        self.activation = nn.ReLU()\n",
    "        self.output = nn.Linear(30, 1)\n",
    "        \n",
    "    def forward(self, x):\n",
    "        x = self.activation(self.layer1(x))\n",
    "        x = self.output(x)\n",
    "        return x\n",
    "\n",
    "# 初始化模型、损失函数和优化器\n",
    "input_dim = X_train.shape[1]\n",
    "model = RegressionModel(input_dim)\n",
    "criterion = nn.MSELoss()\n",
    "optimizer = optim.Adam(model.parameters())\n",
    "\n",
    "# 打印模型结构\n",
    "print(model)\n"
   ]
  },
  {
   "cell_type": "code",
   "execution_count": 46,
   "id": "c27b670e",
   "metadata": {
    "ExecuteTime": {
     "end_time": "2025-06-26T14:03:29.517149Z",
     "start_time": "2025-06-26T14:03:29.514469Z"
    }
   },
   "outputs": [],
   "source": [
    "def evaluate_regression_model(model,dataloader,device,criterion):\n",
    "    model.eval()\n",
    "    running_loss=0.0\n",
    "\n",
    "    with torch.no_grad():\n",
    "        for inputs,targets in dataloader:\n",
    "            inputs,targets=inputs.to(device),targets.to(device)\n",
    "            outputs=model(inputs)\n",
    "            loss=criterion(outputs,targets)\n",
    "\n",
    "            running_loss+=loss.item()*inputs.size(0)\n",
    "    return running_loss/len(dataloader.dataset)"
   ]
  },
  {
   "cell_type": "code",
   "execution_count": 47,
   "id": "8befbe62",
   "metadata": {
    "ExecuteTime": {
     "end_time": "2025-06-26T14:11:46.789119Z",
     "start_time": "2025-06-26T14:11:45.480484Z"
    }
   },
   "outputs": [
    {
     "data": {
      "application/vnd.jupyter.widget-view+json": {
       "model_id": "bf24f41f012c4f4d8cbb446322358d8d",
       "version_major": 2,
       "version_minor": 0
      },
      "text/plain": [
       "train progress:   0%|          | 0/41300 [00:00<?, ?it/s]"
      ]
     },
     "metadata": {},
     "output_type": "display_data"
    },
    {
     "name": "stdout",
     "output_type": "stream",
     "text": [
      "早停触发! 最佳验证准确率: -0.3339\n",
      "早停: 已有10轮验证损失没有改善！\n"
     ]
    }
   ],
   "source": [
    "def train_regression_model(\n",
    "        model,\n",
    "        train_loader,\n",
    "        val_loader,\n",
    "        criterion,\n",
    "        optimizer,\n",
    "        device='cpu',\n",
    "        num_epochs=100,\n",
    "        print_every=10,\n",
    "        eval_step=500,\n",
    "        model_saver=None,\n",
    "        early_stopping=None\n",
    "):\n",
    "    \"\"\"\n",
    "    训练回归模型的函数\n",
    "    \n",
    "    参数:\n",
    "        model: 要训练的模型\n",
    "        train_loader: 训练数据加载器\n",
    "        val_loader: 验证数据加载器\n",
    "        criterion: 损失函数\n",
    "        optimizer: 优化器\n",
    "        device: 训练设备\n",
    "        num_epochs: 训练轮次\n",
    "        print_every: 每多少轮打印一次结果\n",
    "        eval_step: 每多少步评估一次\n",
    "    \n",
    "    返回:\n",
    "        record_dict: 包含训练和验证记录的字典\n",
    "    \"\"\"\n",
    "    # 确保模型在指定设备上\n",
    "    model = model.to(device)\n",
    "    # 确保criterion在指定设备上\n",
    "    if hasattr(criterion, 'to'):\n",
    "        criterion = criterion.to(device)\n",
    "        \n",
    "    record_dict = {\n",
    "        'train':[],\n",
    "        'val':[]\n",
    "    }\n",
    "    global_step = torch.tensor(0, device=device)\n",
    "    model.train()\n",
    "    epoch_val_loss = torch.tensor(0, device=device)\n",
    "    \n",
    "    with tqdm(total=num_epochs*len(train_loader),desc='train progress') as pbar:\n",
    "        for epoch_id in range(num_epochs):\n",
    "            model.train()\n",
    "            running_loss = torch.tensor(0.0, device=device)\n",
    "            for inputs,targets in train_loader:\n",
    "                inputs = inputs.to(device)\n",
    "                targets = targets.to(device)\n",
    "                optimizer.zero_grad()\n",
    "                outputs = model(inputs)\n",
    "                loss = criterion(outputs,targets)\n",
    "                loss.backward()\n",
    "                optimizer.step()\n",
    "                global_step += 1\n",
    "                epoch_train_loss = loss.item()\n",
    "                record_dict['train'].append({\n",
    "                    'loss': epoch_train_loss,\n",
    "                    'step': global_step.item()\n",
    "                })\n",
    "                \n",
    "                if global_step % eval_step == 0:\n",
    "                    epoch_val_loss = evaluate_regression_model(\n",
    "                        model,\n",
    "                        val_loader,\n",
    "                        device,\n",
    "                        criterion)\n",
    "                    record_dict['val'].append({\n",
    "                        'loss': epoch_val_loss,\n",
    "                        'step': global_step.item()\n",
    "                    })\n",
    "                    if model_saver:\n",
    "                        model_saver(model, -epoch_val_loss, epoch_id)\n",
    "                        \n",
    "                    if early_stopping:\n",
    "                        early_stopping(-epoch_val_loss)\n",
    "                        if early_stopping.early_stop:\n",
    "                            print(f'早停: 已有{early_stopping.patience}轮验证损失没有改善！')\n",
    "                            return model, record_dict\n",
    "                pbar.update(1)\n",
    "                pbar.set_postfix({\n",
    "                    \"loss\": f\"{epoch_train_loss:.4f}\", \n",
    "                    \"val_loss\": f\"{epoch_val_loss:.4f},global_step{global_step.item()}\"\n",
    "                })\n",
    "    return model,record_dict\n",
    "\n",
    "# 训练模型\n",
    "# 初始化早停和模型保存对象\n",
    "early_stopping = EarlyStopping(patience=10)\n",
    "model_saver = ModelSaver(save_dir='model_weights')\n",
    "device = torch.device(\"cuda:0\" if torch.cuda.is_available() else \"cpu\")\n",
    "# device='cpu'\n",
    "model = model.to(device)\n",
    "model, record_dict = train_regression_model(\n",
    "    model=model,\n",
    "    train_loader=train_loader,\n",
    "    val_loader=val_loader,\n",
    "    criterion=criterion,\n",
    "    optimizer=optimizer,\n",
    "    num_epochs=100,\n",
    "    print_every=10,\n",
    "    eval_step=500,\n",
    "    early_stopping=early_stopping,\n",
    "    model_saver=model_saver,\n",
    "    device=device\n",
    ")\n",
    "\n"
   ]
  },
  {
   "cell_type": "code",
   "execution_count": 48,
   "id": "65dde96c",
   "metadata": {},
   "outputs": [
    {
     "data": {
      "image/png": "[encoded data removed]",
      "text/plain": [
       "<Figure size 1000x500 with 1 Axes>"
      ]
     },
     "metadata": {},
     "output_type": "display_data"
    }
   ],
   "source": [
    "#画图\n",
    "plot_learning_loss_curves(record_dict,sample_step=200)"
   ]
  },
  {
   "cell_type": "code",
   "execution_count": 49,
   "id": "fd87eb1d",
   "metadata": {},
   "outputs": [
    {
     "name": "stdout",
     "output_type": "stream",
     "text": [
      "测试集上的损失为0.3225\n"
     ]
    }
   ],
   "source": [
    "device = torch.device(\"cuda:0\" if torch.cuda.is_available() else \"cpu\")\n",
    "# device='cpu'\n",
    "test_loss=evaluate_regression_model(model,test_loader,device,criterion)\n",
    "print(f\"测试集上的损失为{test_loss:.4f}\")"
   ]
  },
  {
   "cell_type": "code",
   "execution_count": null,
   "id": "4098ef9c",
   "metadata": {},
   "outputs": [],
   "source": []
  }
 ],
 "metadata": {
  "kernelspec": {
   "display_name": "Python 3",
   "language": "python",
   "name": "python3"
  },
  "language_info": {
   "codemirror_mode": {
    "name": "ipython",
    "version": 3
   },
   "file_extension": ".py",
   "mimetype": "text/x-python",
   "name": "python",
   "nbconvert_exporter": "python",
   "pygments_lexer": "ipython3",
   "version": "3.12.3"
  }
 },
 "nbformat": 4,
 "nbformat_minor": 5
}
